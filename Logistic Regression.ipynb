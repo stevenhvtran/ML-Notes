{
 "cells": [
  {
   "cell_type": "markdown",
   "metadata": {},
   "source": [
    "# Logistic Regression"
   ]
  },
  {
   "cell_type": "markdown",
   "metadata": {},
   "source": [
    "### Import necessary modules"
   ]
  },
  {
   "cell_type": "code",
   "execution_count": 1,
   "metadata": {},
   "outputs": [],
   "source": [
    "from matplotlib import pyplot as plt\n",
    "import numpy as np\n",
    "import pandas as pd"
   ]
  },
  {
   "cell_type": "markdown",
   "metadata": {},
   "source": [
    "### Load data in"
   ]
  },
  {
   "cell_type": "code",
   "execution_count": 2,
   "metadata": {},
   "outputs": [],
   "source": [
    "data = pd.read_csv('./data/exam_passing_rate.csv',\n",
    "                   names=['exam1', 'exam2', 'passed'])\n",
    "data.insert(0, 'ones', 1)"
   ]
  },
  {
   "cell_type": "markdown",
   "metadata": {},
   "source": [
    "### Visualise data"
   ]
  },
  {
   "cell_type": "code",
   "execution_count": 3,
   "metadata": {
    "scrolled": false
   },
   "outputs": [
    {
     "data": {
      "text/plain": [
       "Text(0.5,1,'Exam pass/fail scores')"
      ]
     },
     "execution_count": 3,
     "metadata": {},
     "output_type": "execute_result"
    },
    {
     "data": {
      "image/png": "[encoded data removed]",
      "text/plain": [
       "<Figure size 432x288 with 1 Axes>"
      ]
     },
     "metadata": {},
     "output_type": "display_data"
    }
   ],
   "source": [
    "passed = data[data['passed'] == 1]\n",
    "failed = data[data['passed'] == 0]\n",
    "\n",
    "ax = passed.plot('exam1', 'exam2', kind='scatter', label='passed', c='red')\n",
    "failed.plot('exam1', 'exam2', kind='scatter', label='failed', c='blue', ax=ax)\n",
    "ax.set_xlabel('Exam 1 score')\n",
    "ax.set_ylabel('Exam 2 score')\n",
    "ax.set_title('Exam pass/fail scores')"
   ]
  },
  {
   "cell_type": "markdown",
   "metadata": {},
   "source": [
    "## Logistic Regression Using Gradient Descent"
   ]
  },
  {
   "cell_type": "code",
   "execution_count": 4,
   "metadata": {},
   "outputs": [],
   "source": [
    "x_matrix = data[['ones', 'exam1', 'exam2']].values\n",
    "y_vector = data[['passed']].values"
   ]
  },
  {
   "cell_type": "code",
   "execution_count": 5,
   "metadata": {},
   "outputs": [],
   "source": [
    "def sigmoid(value):\n",
    "    return 1/(1 + np.exp(-value))"
   ]
  },
  {
   "cell_type": "code",
   "execution_count": 6,
   "metadata": {},
   "outputs": [],
   "source": [
    "def hypothesis(predictors, weights):\n",
    "    return sigmoid(np.dot(weights.T, predictors))"
   ]
  },
  {
   "cell_type": "code",
   "execution_count": 7,
   "metadata": {},
   "outputs": [],
   "source": [
    "def error(predictors, weights, targets):\n",
    "    return sigmoid(np.dot(predictors, weights)) - targets"
   ]
  },
  {
   "cell_type": "code",
   "execution_count": 8,
   "metadata": {},
   "outputs": [],
   "source": [
    "def cost(predictors, weights, targets):\n",
    "    num_examples = len(targets)\n",
    "    hypothesis_matrix = sigmoid(np.dot(predictors, weights))\n",
    "    true_cost = np.dot(targets.T, np.log(hypothesis_matrix))\n",
    "    false_cost = np.dot((1 - targets).T, np.log(1 - hypothesis_matrix))\n",
    "    return (-1 / num_examples) * (true_cost + false_cost)"
   ]
  },
  {
   "cell_type": "code",
   "execution_count": 9,
   "metadata": {},
   "outputs": [],
   "source": [
    "def update_weights(weights, predictors, targets, learning_rate):\n",
    "    temp_weights = np.zeros(len(weights))\n",
    "    errors = error(predictors, weights, targets)\n",
    "    for index in range(len(weights)):\n",
    "        partial_dif = np.sum(errors * predictors[:, index])\n",
    "        temp_weights[index] = weights[index] - learning_rate * partial_dif\n",
    "    return temp_weights"
   ]
  },
  {
   "cell_type": "code",
   "execution_count": 10,
   "metadata": {},
   "outputs": [],
   "source": [
    "def grad_desc(weights, predictors, targets, learning_rate, iterations):\n",
    "    costs = np.zeros(iterations)\n",
    "    for iteration in range(iterations):\n",
    "        costs[iteration] = cost(predictors, weights, targets)\n",
    "        weights = update_weights(weights, predictors, targets, learning_rate)\n",
    "    return weights, costs"
   ]
  },
  {
   "cell_type": "code",
   "execution_count": 11,
   "metadata": {},
   "outputs": [],
   "source": [
    "weights = np.zeros(3)\n",
    "learning_rate = 0.000000003\n",
    "iterations = 1000"
   ]
  },
  {
   "cell_type": "code",
   "execution_count": 12,
   "metadata": {},
   "outputs": [],
   "source": [
    "weights, costs = grad_desc(weights, x_matrix, y_vector, learning_rate, iterations)"
   ]
  },
  {
   "cell_type": "code",
   "execution_count": 13,
   "metadata": {
    "scrolled": true
   },
   "outputs": [
    {
     "name": "stdout",
     "output_type": "stream",
     "text": [
      "Initial cost: 0.6931471805599453\n",
      "Final cost: 0.6440459681174315\n",
      "Cost change: -0.04910121244251375\n"
     ]
    },
    {
     "data": {
      "image/png": "[encoded data removed]",
      "text/plain": [
       "<Figure size 432x288 with 1 Axes>"
      ]
     },
     "metadata": {},
     "output_type": "display_data"
    }
   ],
   "source": [
    "%matplotlib inline\n",
    "\n",
    "fig, ax = plt.subplots()\n",
    "ax.plot(list(range(iterations)), costs)\n",
    "ax.set_title('Cost of Multiple Linear Regression')\n",
    "ax.set_xlabel('Iteration Number')\n",
    "ax.set_ylabel('Cost')\n",
    "print(f'Initial cost: {costs[0]}')\n",
    "print(f'Final cost: {costs[-1]}')\n",
    "print(f'Cost change: {costs[-1] - costs[0]}')"
   ]
  },
  {
   "cell_type": "code",
   "execution_count": 14,
   "metadata": {},
   "outputs": [
    {
     "data": {
      "text/plain": [
       "array([0.00015636, 0.00282155, 0.00309564])"
      ]
     },
     "execution_count": 14,
     "metadata": {},
     "output_type": "execute_result"
    }
   ],
   "source": [
    "weights"
   ]
  },
  {
   "cell_type": "code",
   "execution_count": 15,
   "metadata": {},
   "outputs": [
    {
     "data": {
      "text/plain": [
       "0.5000390907086854"
      ]
     },
     "execution_count": 15,
     "metadata": {},
     "output_type": "execute_result"
    }
   ],
   "source": [
    "hypothesis(np.array([1, 0, 0]), weights)"
   ]
  }
 ],
 "metadata": {
  "kernelspec": {
   "display_name": "Python 3",
   "language": "python",
   "name": "python3"
  },
  "language_info": {
   "codemirror_mode": {
    "name": "ipython",
    "version": 3
   },
   "file_extension": ".py",
   "mimetype": "text/x-python",
   "name": "python",
   "nbconvert_exporter": "python",
   "pygments_lexer": "ipython3",
   "version": "3.6.5"
  }
 },
 "nbformat": 4,
 "nbformat_minor": 2
}
