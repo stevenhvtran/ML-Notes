{
 "cells": [
  {
   "cell_type": "markdown",
   "metadata": {},
   "source": [
    "# Logistic Regression"
   ]
  },
  {
   "cell_type": "markdown",
   "metadata": {},
   "source": [
    "### Import necessary modules"
   ]
  },
  {
   "cell_type": "code",
   "execution_count": 20,
   "metadata": {},
   "outputs": [],
   "source": [
    "from matplotlib import pyplot as plt\n",
    "import numpy as np\n",
    "import pandas as pd"
   ]
  },
  {
   "cell_type": "markdown",
   "metadata": {},
   "source": [
    "### Load data in"
   ]
  },
  {
   "cell_type": "code",
   "execution_count": 21,
   "metadata": {},
   "outputs": [],
   "source": [
    "data = pd.read_csv('./data/exam_passing_rate.csv',\n",
    "                   names=['exam1', 'exam2', 'passed'])\n",
    "data.insert(0, 'ones', 1)"
   ]
  },
  {
   "cell_type": "markdown",
   "metadata": {},
   "source": [
    "### Visualise data"
   ]
  },
  {
   "cell_type": "code",
   "execution_count": 22,
   "metadata": {
    "scrolled": false
   },
   "outputs": [
    {
     "data": {
      "text/plain": [
       "Text(0.5,1,'Exam pass/fail scores')"
      ]
     },
     "execution_count": 22,
     "metadata": {},
     "output_type": "execute_result"
    },
    {
     "data": {
      "image/png": "[encoded data removed]",
      "text/plain": [
       "<Figure size 432x288 with 1 Axes>"
      ]
     },
     "metadata": {},
     "output_type": "display_data"
    }
   ],
   "source": [
    "passed = data[data['passed'] == 1]\n",
    "failed = data[data['passed'] == 0]\n",
    "\n",
    "ax = passed.plot('exam1', 'exam2', kind='scatter', label='passed', c='red')\n",
    "failed.plot('exam1', 'exam2', kind='scatter', label='failed', c='blue', ax=ax)\n",
    "ax.set_xlabel('Exam 1 score')\n",
    "ax.set_ylabel('Exam 2 score')\n",
    "ax.set_title('Exam pass/fail scores')"
   ]
  },
  {
   "cell_type": "markdown",
   "metadata": {},
   "source": [
    "## Logistic Regression Using Gradient Descent\n",
    "This demo was created with the notes found on the website [here](https://medium.com/@martinpella/logistic-regression-from-scratch-in-python-124c5636b8ac)"
   ]
  },
  {
   "cell_type": "markdown",
   "metadata": {},
   "source": [
    "### Load in data"
   ]
  },
  {
   "cell_type": "code",
   "execution_count": 23,
   "metadata": {},
   "outputs": [],
   "source": [
    "x_matrix = data[['ones', 'exam1', 'exam2']].values\n",
    "y_vector = data[['passed']].values"
   ]
  },
  {
   "cell_type": "markdown",
   "metadata": {},
   "source": [
    "### Create functions to do gradient descent and calculate loss"
   ]
  },
  {
   "cell_type": "code",
   "execution_count": 7,
   "metadata": {},
   "outputs": [],
   "source": [
    "def calc_sigmoid(z):\n",
    "    return 1 / (1 + np.exp(-z))"
   ]
  },
  {
   "cell_type": "code",
   "execution_count": 8,
   "metadata": {},
   "outputs": [],
   "source": [
    "def calc_hypothesis(features, weights):\n",
    "    return sigmoid(np.dot(features, weights))"
   ]
  },
  {
   "cell_type": "code",
   "execution_count": 16,
   "metadata": {},
   "outputs": [],
   "source": [
    "def calc_loss(hypothesis, targets):\n",
    "    y = targets\n",
    "    h = hypothesis\n",
    "    return (-y * np.log(h) - (1 - y) * np.log(1 - h)).mean()"
   ]
  },
  {
   "cell_type": "code",
   "execution_count": 71,
   "metadata": {},
   "outputs": [],
   "source": [
    "def calc_gradient(hypothesis, features, targets):\n",
    "    y = targets\n",
    "    X = features\n",
    "    h = hypothesis\n",
    "    error = h - y\n",
    "    return np.dot(X.T, error) / y.shape[0]"
   ]
  },
  {
   "cell_type": "code",
   "execution_count": 51,
   "metadata": {},
   "outputs": [],
   "source": [
    "def update_weights(weights, learning_rate, gradient):\n",
    "    weights = weights - (learning_rate * gradient)\n",
    "    return weights"
   ]
  },
  {
   "cell_type": "code",
   "execution_count": 17,
   "metadata": {},
   "outputs": [],
   "source": [
    "def predict(features, weights, theshold=0.5):\n",
    "    return calc_hypothesis(features, weights) >= 0.5"
   ]
  },
  {
   "cell_type": "markdown",
   "metadata": {},
   "source": [
    "### Set hyper-parameters"
   ]
  },
  {
   "cell_type": "code",
   "execution_count": 106,
   "metadata": {},
   "outputs": [],
   "source": [
    "iterations = 1000000\n",
    "learning_rate = 0.0001\n",
    "weights = np.zeros(shape=(3, 1))"
   ]
  },
  {
   "cell_type": "markdown",
   "metadata": {},
   "source": [
    "### Train the model"
   ]
  },
  {
   "cell_type": "code",
   "execution_count": 107,
   "metadata": {},
   "outputs": [],
   "source": [
    "loss = np.zeros(iterations)\n",
    "for iteration in range(iterations):\n",
    "    hypothesis = calc_hypothesis(x_matrix, weights)\n",
    "    gradient = calc_gradient(hypothesis, x_matrix, y_vector)\n",
    "    loss[iteration] = calc_loss(hypothesis, y_vector)\n",
    "    weights = update_weights(weights, learning_rate, gradient)"
   ]
  },
  {
   "cell_type": "markdown",
   "metadata": {},
   "source": [
    "### Plot loss at each  iteration to ensure model is working"
   ]
  },
  {
   "cell_type": "code",
   "execution_count": 135,
   "metadata": {
    "scrolled": true
   },
   "outputs": [
    {
     "name": "stdout",
     "output_type": "stream",
     "text": [
      "Initial Loss: 0.6931471805599453\n",
      "Final LossE: 0.3873901196437476\n"
     ]
    },
    {
     "data": {
      "image/png": "[encoded data removed]",
      "text/plain": [
       "<Figure size 432x288 with 1 Axes>"
      ]
     },
     "metadata": {},
     "output_type": "display_data"
    }
   ],
   "source": [
    "fig, ax = plt.subplots()\n",
    "ax.plot(np.arange(iterations), loss)\n",
    "ax.set_title('Losss of model with each iteration')\n",
    "ax.set_ylabel('Loss')\n",
    "ax.set_xlabel('Iteration')\n",
    "print(f'Initial Loss: {loss[0]}')\n",
    "print(f'Final LossE: {loss[-1]}')"
   ]
  },
  {
   "cell_type": "markdown",
   "metadata": {},
   "source": [
    "### Re-plot data with the predicted decision boundary\n",
    "The chosen threshold is 0.5 by default"
   ]
  },
  {
   "cell_type": "code",
   "execution_count": 133,
   "metadata": {
    "scrolled": false
   },
   "outputs": [
    {
     "data": {
      "text/plain": [
       "<matplotlib.legend.Legend at 0x222ac7326a0>"
      ]
     },
     "execution_count": 133,
     "metadata": {},
     "output_type": "execute_result"
    },
    {
     "data": {
      "image/png": "[encoded data removed]",
      "text/plain": [
       "<Figure size 432x288 with 1 Axes>"
      ]
     },
     "metadata": {},
     "output_type": "display_data"
    }
   ],
   "source": [
    "x_points = np.linspace(30, 100, 2)\n",
    "intercept = - weights[0] / weights[2]\n",
    "slope = - weights[1] / weights[2]\n",
    "y_points = x_points * slope + intercept\n",
    "\n",
    "ax = passed.plot('exam1', 'exam2', kind='scatter', label='passed', c='red')\n",
    "ax.plot(x_points, y_points, c='black', label='Decision Boundary')\n",
    "failed.plot('exam1', 'exam2', kind='scatter', label='failed', c='blue', ax=ax)\n",
    "ax.set_xlabel('Exam 1 score')\n",
    "ax.set_ylabel('Exam 2 score')\n",
    "ax.set_title('Exam pass/fail scores')\n",
    "ax.legend()"
   ]
  },
  {
   "cell_type": "markdown",
   "metadata": {},
   "source": [
    "### Calculate  accuracy"
   ]
  },
  {
   "cell_type": "code",
   "execution_count": 142,
   "metadata": {},
   "outputs": [
    {
     "name": "stdout",
     "output_type": "stream",
     "text": [
      "The model is 91.0% accurate\n"
     ]
    }
   ],
   "source": [
    "accuracy = 1 - (predict(x_matrix, weights) - y_vector).mean()\n",
    "print(f'The model is {accuracy * 100}% accurate')"
   ]
  }
 ],
 "metadata": {
  "kernelspec": {
   "display_name": "Python 3",
   "language": "python",
   "name": "python3"
  },
  "language_info": {
   "codemirror_mode": {
    "name": "ipython",
    "version": 3
   },
   "file_extension": ".py",
   "mimetype": "text/x-python",
   "name": "python",
   "nbconvert_exporter": "python",
   "pygments_lexer": "ipython3",
   "version": "3.6.5"
  }
 },
 "nbformat": 4,
 "nbformat_minor": 2
}
