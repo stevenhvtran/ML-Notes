{
 "cells": [
  {
   "cell_type": "markdown",
   "metadata": {},
   "source": [
    "# Linear Regression using BGD"
   ]
  },
  {
   "cell_type": "code",
   "execution_count": 51,
   "metadata": {},
   "outputs": [],
   "source": [
    "import random\n",
    "from matplotlib import pyplot as plt\n",
    "import numpy as np"
   ]
  },
  {
   "cell_type": "markdown",
   "metadata": {},
   "source": [
    "Create a function to generate y values from x values. The formula for the function will be: y = 3x + 2"
   ]
  },
  {
   "cell_type": "code",
   "execution_count": 24,
   "metadata": {},
   "outputs": [],
   "source": [
    "def fx(n):\n",
    "    \"\"\"Function to generate the y values\"\"\"\n",
    "    formula = n * 3 + 2\n",
    "    variation = random.uniform(-2, 2)\n",
    "    return formula + variation"
   ]
  },
  {
   "cell_type": "markdown",
   "metadata": {},
   "source": [
    "Generate x and y values and plot to visualise"
   ]
  },
  {
   "cell_type": "code",
   "execution_count": 25,
   "metadata": {},
   "outputs": [
    {
     "data": {
      "text/plain": [
       "<matplotlib.collections.PathCollection at 0x28db7257550>"
      ]
     },
     "execution_count": 25,
     "metadata": {},
     "output_type": "execute_result"
    },
    {
     "data": {
      "image/png": "[encoded data removed]",
      "text/plain": [
       "<Figure size 432x288 with 1 Axes>"
      ]
     },
     "metadata": {},
     "output_type": "display_data"
    }
   ],
   "source": [
    "x_vals = [random.uniform(-3, 3) for iteration in range(20)]\n",
    "y_vals = [fx(num) for num in x_vals]\n",
    "plt.scatter(x_vals, y_vals)"
   ]
  },
  {
   "cell_type": "markdown",
   "metadata": {},
   "source": [
    "We will use the model h_theta(x) = theta_0 + theta_1 * x  \n",
    "Create a function to find the sum of the errors for parameters theta_0 and theta_1"
   ]
  },
  {
   "cell_type": "code",
   "execution_count": 35,
   "metadata": {},
   "outputs": [],
   "source": [
    "def sum_errors_t0(x, y, t0, t1):\n",
    "    \"\"\"Get the sum of errors for updating of theta_0\"\"\"\n",
    "    total_error = 0\n",
    "    # Iterate through x and y values summing up the errors\n",
    "    for xi, yi in list(zip(x, y)):\n",
    "        h_theta = (t0 + t1 * xi)\n",
    "        error = h_theta - yi\n",
    "        total_error += error\n",
    "    return total_error\n",
    "\n",
    "\n",
    "def sum_errors_t1(x, y, t0, t1):\n",
    "    \"\"\"Get the sum of errors for updating of theta_1\"\"\"\n",
    "    total_error = 0\n",
    "    # Iterate through x and y values summing up the errors\n",
    "    for xi, yi in list(zip(x, y)):\n",
    "        h_theta = (t0 + t1 * xi)\n",
    "        error = h_theta - yi\n",
    "        total_error += error * xi\n",
    "    return total_error"
   ]
  },
  {
   "cell_type": "markdown",
   "metadata": {},
   "source": [
    "Create a function to get partial derivatives for t0 and t1 values according to batch gradient descent"
   ]
  },
  {
   "cell_type": "code",
   "execution_count": 75,
   "metadata": {},
   "outputs": [],
   "source": [
    "def partial_t0(x, y, t0, t1):\n",
    "    \"\"\"Get the partial derivate in terms of t0\"\"\"\n",
    "    # Get m the number of values in the sample\n",
    "    m = len(x)\n",
    "    sum_error = sum_errors_t0(x, y, t0, t1)\n",
    "    return (1/m) * sum_error\n",
    "\n",
    "\n",
    "def partial_t1(x, y, t0, t1):\n",
    "    \"\"\"Get the partial derivative in terms of t1\"\"\"\n",
    "    # Get m the number of values in the sample\n",
    "    m = len(x)\n",
    "    sum_error = sum_errors_t1(x, y, t0, t1)\n",
    "    return (1/m) * sum_error"
   ]
  },
  {
   "cell_type": "markdown",
   "metadata": {},
   "source": [
    "Create a function to get new t0 and t1 parameters"
   ]
  },
  {
   "cell_type": "code",
   "execution_count": 76,
   "metadata": {},
   "outputs": [],
   "source": [
    "def update_params(x, y, t0, t1, alpha):\n",
    "    \"\"\"Returns new t0 and t1 predictions\"\"\"\n",
    "    temp_t0 = t0 - alpha * partial_t0(x, y, t0, t1)\n",
    "    temp_t1 = t1 - alpha * partial_t1(x, y, t0, t1)\n",
    "    return temp_t0, temp_t1"
   ]
  },
  {
   "cell_type": "markdown",
   "metadata": {},
   "source": [
    "Create a function to do the linear regression"
   ]
  },
  {
   "cell_type": "code",
   "execution_count": 77,
   "metadata": {},
   "outputs": [],
   "source": [
    "def predict(x, y, t0, t1, alpha, iterations):\n",
    "    \"\"\"Predicts the parameters t0 and t1 with alpha learning rate\"\"\"\n",
    "    for _ in range(iterations):\n",
    "        t0, t1 = update_params(x, y, t0, t1, alpha)\n",
    "    return t0, t1"
   ]
  },
  {
   "cell_type": "markdown",
   "metadata": {},
   "source": [
    "Use linear regression to predict t0 and t1 values  \n",
    "Start at (0, 0), use learning rate of 0.1 and 15 iterations"
   ]
  },
  {
   "cell_type": "code",
   "execution_count": 91,
   "metadata": {},
   "outputs": [
    {
     "data": {
      "text/plain": [
       "[<matplotlib.lines.Line2D at 0x28db9e49390>]"
      ]
     },
     "execution_count": 91,
     "metadata": {},
     "output_type": "execute_result"
    },
    {
     "data": {
      "image/png": "[encoded data removed]",
      "text/plain": [
       "<Figure size 432x288 with 1 Axes>"
      ]
     },
     "metadata": {},
     "output_type": "display_data"
    }
   ],
   "source": [
    "t0_predict, t1_predict = predict(x_vals, y_vals, 0, 0, 0.1, 15)\n",
    "\n",
    "fig = plt.figure()\n",
    "ax = plt.axes()\n",
    "\n",
    "# Plot the data points\n",
    "ax.scatter(x_vals, y_vals, color='blue')\n",
    "\n",
    "# Make enpoints of lines go from -3 to 3\n",
    "x = np.array([-3.5, 3.5])\n",
    "\n",
    "# Plot line for the formula random points were generated from\n",
    "ax.plot(x, 1 + 3 * x, color = 'blue')\n",
    "\n",
    "\n",
    "# Plot regression line\n",
    "ax.plot(x, t0_predict + t1_predict * x, color='red')"
   ]
  }
 ],
 "metadata": {
  "kernelspec": {
   "display_name": "Python 3",
   "language": "python",
   "name": "python3"
  },
  "language_info": {
   "codemirror_mode": {
    "name": "ipython",
    "version": 3
   },
   "file_extension": ".py",
   "mimetype": "text/x-python",
   "name": "python",
   "nbconvert_exporter": "python",
   "pygments_lexer": "ipython3",
   "version": "3.6.5"
  }
 },
 "nbformat": 4,
 "nbformat_minor": 2
}
