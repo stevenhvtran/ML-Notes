{
 "cells": [
  {
   "cell_type": "markdown",
   "metadata": {},
   "source": [
    "# Multiple Linear Regression with Melbourne Housing Data"
   ]
  },
  {
   "cell_type": "markdown",
   "metadata": {},
   "source": [
    "Import modules needed"
   ]
  },
  {
   "cell_type": "code",
   "execution_count": 1,
   "metadata": {},
   "outputs": [],
   "source": [
    "from matplotlib import pyplot as plt\n",
    "import pandas as pd\n",
    "import numpy as np"
   ]
  },
  {
   "cell_type": "markdown",
   "metadata": {},
   "source": [
    "Import Melbourne housing dataset into pandas and see datatypes  \n",
    "Source: https://www.kaggle.com/anthonypino/melbourne-housing-market/home"
   ]
  },
  {
   "cell_type": "code",
   "execution_count": 2,
   "metadata": {},
   "outputs": [
    {
     "data": {
      "text/plain": [
       "Suburb            object\n",
       "Address           object\n",
       "Rooms              int64\n",
       "Type              object\n",
       "Price            float64\n",
       "Method            object\n",
       "SellerG           object\n",
       "Date              object\n",
       "Distance         float64\n",
       "Postcode         float64\n",
       "Bedroom2         float64\n",
       "Bathroom         float64\n",
       "Car              float64\n",
       "Landsize         float64\n",
       "BuildingArea     float64\n",
       "YearBuilt        float64\n",
       "CouncilArea       object\n",
       "Latitude         float64\n",
       "Longitude        float64\n",
       "Regionname        object\n",
       "Propertycount    float64\n",
       "dtype: object"
      ]
     },
     "execution_count": 2,
     "metadata": {},
     "output_type": "execute_result"
    }
   ],
   "source": [
    "df = pd.read_csv('data/Melbourne_housing_FULL.csv')\n",
    "df.dtypes"
   ]
  },
  {
   "cell_type": "markdown",
   "metadata": {},
   "source": [
    "Keep only columns with numerical data, drop unwanted columns too."
   ]
  },
  {
   "cell_type": "code",
   "execution_count": 3,
   "metadata": {
    "scrolled": true
   },
   "outputs": [
    {
     "data": {
      "text/plain": [
       "Rooms             int64\n",
       "Price           float64\n",
       "Distance        float64\n",
       "Bathroom        float64\n",
       "Car             float64\n",
       "Landsize        float64\n",
       "BuildingArea    float64\n",
       "YearBuilt       float64\n",
       "dtype: object"
      ]
     },
     "execution_count": 3,
     "metadata": {},
     "output_type": "execute_result"
    }
   ],
   "source": [
    "cols = [col for col in df.columns if df[col].dtype != 'object']\n",
    "df = df[cols]\n",
    "df = df.drop(labels=['Postcode', 'Propertycount', 'Bedroom2', 'Longitude', 'Latitude'], axis=1)\n",
    "df.dtypes"
   ]
  },
  {
   "cell_type": "markdown",
   "metadata": {},
   "source": [
    "Find percentage of each column that contain NaN values"
   ]
  },
  {
   "cell_type": "code",
   "execution_count": 4,
   "metadata": {
    "scrolled": true
   },
   "outputs": [
    {
     "data": {
      "text/plain": [
       "Rooms           0.000000\n",
       "Price           0.218321\n",
       "Distance        0.000029\n",
       "Bathroom        0.235993\n",
       "Car             0.250394\n",
       "Landsize        0.338813\n",
       "BuildingArea    0.605761\n",
       "YearBuilt       0.553863\n",
       "dtype: float64"
      ]
     },
     "execution_count": 4,
     "metadata": {},
     "output_type": "execute_result"
    }
   ],
   "source": [
    "df.isnull().sum()/df.shape[0]"
   ]
  },
  {
   "cell_type": "markdown",
   "metadata": {},
   "source": [
    "Drop all houses that don't have associated house price and see proportion of null values in each column"
   ]
  },
  {
   "cell_type": "code",
   "execution_count": 5,
   "metadata": {},
   "outputs": [
    {
     "data": {
      "text/plain": [
       "Rooms           0.000000\n",
       "Price           0.000000\n",
       "Distance        0.000037\n",
       "Bathroom        0.236613\n",
       "Car             0.250450\n",
       "Landsize        0.340037\n",
       "BuildingArea    0.608911\n",
       "YearBuilt       0.556502\n",
       "dtype: float64"
      ]
     },
     "execution_count": 5,
     "metadata": {},
     "output_type": "execute_result"
    }
   ],
   "source": [
    "df = df.loc[df['Price'].isnull() == False]\n",
    "df.isnull().sum()/df.shape[0]"
   ]
  },
  {
   "cell_type": "markdown",
   "metadata": {},
   "source": [
    "Clean dataset"
   ]
  },
  {
   "cell_type": "code",
   "execution_count": 6,
   "metadata": {},
   "outputs": [],
   "source": [
    "# Drop all columns with more than 1/4 null values\n",
    "cols = [col for col in df.columns if df[col].isnull().sum()/df.shape[0] < 0.25]\n",
    "df = df[cols]\n",
    "\n",
    "# Drop remaining rows with null values\n",
    "for col in df.columns:\n",
    "    df = df.loc[df[col].isnull() == False]\n",
    "\n",
    "# Rescale the values in the dataframe to normalise data\n",
    "df2 = (df - df.mean())/(df.max() - df.min())\n",
    "df2['Price'] = df['Price']\n",
    "\n",
    "# Insert a column of ones for the theta_0 predictor\n",
    "df2.insert(0, 'Ones', 1)\n",
    "\n",
    "# Use only a random sample of 500 rows\n",
    "df2 = df2.sample(500)"
   ]
  },
  {
   "cell_type": "markdown",
   "metadata": {},
   "source": [
    "Set X (training data), and y (target variable)"
   ]
  },
  {
   "cell_type": "code",
   "execution_count": 7,
   "metadata": {},
   "outputs": [],
   "source": [
    "# Target Variable\n",
    "y_vals = df2['Price']\n",
    "\n",
    "# Training Data\n",
    "x_vals = df2[[col for col in df2.columns if col != 'Price']]\n",
    "\n",
    "# Convert to matrices and initialise theta\n",
    "x_matrix = np.matrix(x_vals.values)\n",
    "y_matrix = np.matrix(y_vals.values)\n",
    "predictor_matrix = np.matrix(np.array([0]*4))"
   ]
  },
  {
   "cell_type": "markdown",
   "metadata": {},
   "source": [
    "Gradient descent function"
   ]
  },
  {
   "cell_type": "code",
   "execution_count": 8,
   "metadata": {},
   "outputs": [],
   "source": [
    "def gradDesc(x, y, theta, alpha, iterations):\n",
    "    # Create a temporary matrix for new set of predictors\n",
    "    temp = np.matrix(np.zeros(theta.shape))\n",
    "    # Number of predictors\n",
    "    predictors = int(theta.ravel().shape[1])\n",
    "    # Matrix to store cost over iterations\n",
    "    cost = np.zeros(iterations)\n",
    "    \n",
    "    for i in range(iterations):\n",
    "        # Compute cost of current theta\n",
    "        cost[i] = np.sum(np.power((x * theta.T) - y, 2))/(2*len(x))\n",
    "        \n",
    "        # Calculate the error using matrix operations\n",
    "        error = (x * theta.T) - y\n",
    "        \n",
    "        for j in range(predictors):\n",
    "            # Multiply the errors by the j'th column\n",
    "            # Result is array of partial derivative of errors for every j\n",
    "            term = np.multiply(error, x[:,j])\n",
    "            \n",
    "            # Move down the gradient by using partial derivatives and previous theta terms\n",
    "            temp[0, j] = theta[0, j] - ((alpha/len(x)) * np.sum(term))\n",
    "            \n",
    "        # Update all the predictors to the new values at once\n",
    "        theta = temp\n",
    "    return theta, cost"
   ]
  },
  {
   "cell_type": "markdown",
   "metadata": {},
   "source": [
    "Predict co-efficients of linear regression using gradient descent, learning rate of 0.0001 and 1000 iterations.  \n",
    "Plot the cost over time."
   ]
  },
  {
   "cell_type": "code",
   "execution_count": 9,
   "metadata": {
    "scrolled": true
   },
   "outputs": [
    {
     "data": {
      "text/plain": [
       "<matplotlib.collections.PathCollection at 0x1d62c456e10>"
      ]
     },
     "execution_count": 9,
     "metadata": {},
     "output_type": "execute_result"
    },
    {
     "data": {
      "image/png": "[encoded data removed]",
      "text/plain": [
       "<Figure size 432x288 with 1 Axes>"
      ]
     },
     "metadata": {},
     "output_type": "display_data"
    }
   ],
   "source": [
    "alpha = 0.00001\n",
    "iters = 1000\n",
    "prediction, cost_hist = gradDesc(x_matrix, y_matrix, predictor_matrix, alpha, iters)\n",
    "plt.scatter(list(range(iters)), cost_hist)"
   ]
  }
 ],
 "metadata": {
  "kernelspec": {
   "display_name": "Python 3",
   "language": "python",
   "name": "python3"
  },
  "language_info": {
   "codemirror_mode": {
    "name": "ipython",
    "version": 3
   },
   "file_extension": ".py",
   "mimetype": "text/x-python",
   "name": "python",
   "nbconvert_exporter": "python",
   "pygments_lexer": "ipython3",
   "version": "3.6.5"
  }
 },
 "nbformat": 4,
 "nbformat_minor": 2
}
